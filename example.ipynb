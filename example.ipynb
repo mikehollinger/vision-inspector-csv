{
 "cells": [
  {
   "cell_type": "code",
   "execution_count": 1,
   "metadata": {},
   "outputs": [],
   "source": [
    "import requests\n",
    "import logging\n",
    "from visual_inspector_dump import dumpinspectordata"
   ]
  },
  {
   "cell_type": "code",
   "execution_count": 2,
   "metadata": {},
   "outputs": [],
   "source": [
    "logging.basicConfig(format='%(asctime)s %(levelname)s: %(message)s',\n",
    "                      datefmt='%H:%M:%S',\n",
    "                      level=logging.INFO) #other options are logging.DEBUG"
   ]
  },
  {
   "cell_type": "code",
   "execution_count": 8,
   "metadata": {},
   "outputs": [
    {
     "name": "stderr",
     "output_type": "stream",
     "text": [
      "19:37:47 INFO: Setting up auth token\n",
      "19:37:47 INFO: Retrieving global dataset list...\n",
      "19:37:47 INFO: Successfully retrieved 15 datasets\n",
      "19:37:47 INFO: Fetched      15 items in Dataset 7003798b-dc9e-4ede-93b3-aedce5fb5579 = dogs\n",
      "19:37:47 INFO: Fetched       0 items in Dataset a078b647-b3e7-4e21-81e8-aaae928dfd42 = EPRI Inference\n",
      "19:37:48 INFO: Fetched    8184 items in Dataset 38a231cf-6ea7-4c83-90df-4847ebe8762f = EPRI-processed-and-augmented-fm \n",
      "19:37:48 INFO: Fetched     183 items in Dataset 0c666a5e-d3c3-4923-b369-1a54073a502e = augment detect dents on a car v3\n",
      "19:37:48 INFO: Fetched      96 items in Dataset 8930b231-34cc-48b4-9fda-80dc0aa01fb1 = 96_total\n",
      "19:37:48 INFO: Fetched     607 items in Dataset b93394ff-61b9-4e7c-bc4f-0fbfd2a30839 = USGP_Autolabel\n",
      "19:37:48 INFO: Fetched      48 items in Dataset 78a108e5-d64e-4f24-80db-519101c8a749 = no-exif\n",
      "19:37:49 INFO: Fetched     288 items in Dataset 333c754f-5d4b-42a9-94c2-cf2c4b460102 = aug-arrow\n",
      "19:37:49 INFO: Fetched     606 items in Dataset 433035d3-a33e-46a2-aa28-99e54c1b344b = USGP_Autolabel\n",
      "19:37:49 INFO: Fetched       3 items in Dataset 83388b32-6e71-45e7-b429-fbe37d3c04be = augleaf\n",
      "19:37:49 INFO: Fetched      42 items in Dataset a1c344e5-2955-45c5-bca0-8d71cf2a8273 = RZ Test\n",
      "19:37:49 INFO: Fetched       1 items in Dataset 7658f3b4-e2ec-4c47-9535-f6a24a12c823 = leaf\n",
      "19:37:49 INFO: Fetched      57 items in Dataset 577606b8-a7b6-4238-bd7a-4e3258fddf77 = aug\n",
      "19:37:49 INFO: Fetched       8 items in Dataset fb3e06fe-e0b3-45db-a1a6-130ab2ba8822 = dogs\n",
      "19:37:49 INFO: Fetched     183 items in Dataset c18404fd-e217-4df6-a4ad-05a512ba17fb = augment detect dents on a car v3\n",
      "19:37:49 INFO: Wrote 41 rows to out.csv. We filtered out 10280 items.\n"
     ]
    }
   ],
   "source": [
    "dumpinspectordata(dsid=None,\n",
    "                  user='admin',\n",
    "                  passwd='insertpwhere',\n",
    "                  url='https://vision-poc1.aus.stglabs.ibm.com/powerai-vision',\n",
    "                  output='out.csv',\n",
    "                  showall=False)"
   ]
  },
  {
   "cell_type": "code",
   "execution_count": 6,
   "metadata": {},
   "outputs": [
    {
     "name": "stderr",
     "output_type": "stream",
     "text": [
      "19:37:26 INFO: Setting up auth token\n",
      "19:37:26 INFO: Retrieving global dataset list...\n",
      "19:37:27 INFO: Successfully retrieved 1 datasets\n",
      "19:37:27 INFO: Fetched     242 items in Dataset 4f4715d7-80f2-4bf3-90fe-ca29ced60728 = Auto Wheels\n",
      "19:37:27 INFO: Wrote 0 rows to wheels.csv. We filtered out 242 items.\n"
     ]
    }
   ],
   "source": [
    "dumpinspectordata(dsid='4f4715d7-80f2-4bf3-90fe-ca29ced60728',\n",
    "                  user='admin',\n",
    "                  passwd='insertpwhere',\n",
    "                  url='https://vision-poc1.aus.stglabs.ibm.com/powerai-vision-v115-prod',\n",
    "                  output='wheels.csv',\n",
    "                  showall=False)"
   ]
  },
  {
   "cell_type": "code",
   "execution_count": null,
   "metadata": {},
   "outputs": [],
   "source": []
  }
 ],
 "metadata": {
  "kernelspec": {
   "display_name": "Python 3",
   "language": "python",
   "name": "python3"
  },
  "language_info": {
   "codemirror_mode": {
    "name": "ipython",
    "version": 3
   },
   "file_extension": ".py",
   "mimetype": "text/x-python",
   "name": "python",
   "nbconvert_exporter": "python",
   "pygments_lexer": "ipython3",
   "version": "3.7.4"
  }
 },
 "nbformat": 4,
 "nbformat_minor": 4
}
